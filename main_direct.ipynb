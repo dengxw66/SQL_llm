{
 "cells": [
  {
   "cell_type": "code",
   "execution_count": 5,
   "metadata": {},
   "outputs": [],
   "source": [
    "import os\n",
    "import re\n",
    "os.environ[\"CUDA_VISIBLE_DEVICES\"] = \"6\"\n",
    "import torch\n",
    "from transformers import AutoModel, AutoTokenizer\n",
    "import gradio as gr\n",
    "import mdtex2html\n",
    "import platform\n",
    "from transformers import AutoTokenizer, AutoModel\n",
    "from utility.utils import config_dict\n",
    "from utility.loggers import logger\n",
    "from sentence_transformers import util\n",
    "from local_database import db_operate\n",
    "from utils import obtain_sql, retrieval_related_table, execute_sql\n",
    "from prompt import query_template, chatbot_prompt\n",
    "\n",
    "\n"
   ]
  },
  {
   "cell_type": "code",
   "execution_count": 2,
   "metadata": {},
   "outputs": [
    {
     "name": "stderr",
     "output_type": "stream",
     "text": [
      "Loading checkpoint shards:   0%|          | 0/7 [00:00<?, ?it/s]/home/dxw/anaconda3/envs/agent/lib/python3.8/site-packages/torch/_utils.py:776: UserWarning: TypedStorage is deprecated. It will be removed in the future and UntypedStorage will be the only storage class. This should only matter to you if you are using storages directly.  To access UntypedStorage directly, use tensor.untyped_storage() instead of tensor.storage()\n",
      "  return self.fget.__get__(instance, owner)()\n",
      "Loading checkpoint shards: 100%|██████████| 7/7 [00:08<00:00,  1.18s/it]\n"
     ]
    }
   ],
   "source": [
    "\n",
    "tokenizer = AutoTokenizer.from_pretrained(\"/data1/dxw_data/llm/chatglm3-6b\", trust_remote_code=True)\n",
    "model = AutoModel.from_pretrained(\"/data1/dxw_data/llm/chatglm3-6b\", trust_remote_code=True).half().cuda()\n",
    "model = model.eval()\n",
    "\n"
   ]
  },
  {
   "cell_type": "code",
   "execution_count": 3,
   "metadata": {},
   "outputs": [],
   "source": [
    "\n",
    "def parse_text(text):\n",
    "    \"\"\"copy from https://github.com/GaiZhenbiao/ChuanhuChatGPT/\"\"\"\n",
    "    lines = text.split(\"\\n\")\n",
    "    lines = [line for line in lines if line != \"\"]\n",
    "    count = 0\n",
    "    for i, line in enumerate(lines):\n",
    "        if \"```\" in line:\n",
    "            count += 1\n",
    "            items = line.split('`')\n",
    "            if count % 2 == 1:\n",
    "                lines[i] = f'<pre><code class=\"language-{items[-1]}\">'\n",
    "            else:\n",
    "                lines[i] = f'<br></code></pre>'\n",
    "        else:\n",
    "            if i > 0:\n",
    "                if count % 2 == 1:\n",
    "                    line = line.replace(\"`\", \"\\`\")\n",
    "                    line = line.replace(\"<\", \"&lt;\")\n",
    "                    line = line.replace(\">\", \"&gt;\")\n",
    "                    line = line.replace(\" \", \"&nbsp;\")\n",
    "                    line = line.replace(\"*\", \"&ast;\")\n",
    "                    line = line.replace(\"_\", \"&lowbar;\")\n",
    "                    line = line.replace(\"-\", \"&#45;\")\n",
    "                    line = line.replace(\".\", \"&#46;\")\n",
    "                    line = line.replace(\"!\", \"&#33;\")\n",
    "                    line = line.replace(\"(\", \"&#40;\")\n",
    "                    line = line.replace(\")\", \"&#41;\")\n",
    "                    line = line.replace(\"$\", \"&#36;\")\n",
    "                lines[i] = \"<br>\"+line\n",
    "    text = \"\".join(lines)\n",
    "    print(text)\n",
    "    return text\n",
    "\n",
    "def predict(input, history):\n",
    "    max_length = 2048\n",
    "    top_p = 0.7\n",
    "    temperature = 0.2\n",
    "    dboperate = db_operate(config_dict['db_path'])\n",
    "    input_prompt = chatbot_prompt\n",
    "    input_prompt = retrieval_related_table(input_prompt, input, history, top_k=3)\n",
    "    input_prompt += query_template\n",
    "    query = input_prompt.replace(\"<user_input>\", input)\n",
    "    \n",
    "    response, history = model.chat(tokenizer, query, history=history, max_length=max_length, top_p=top_p, temperature=temperature)\n",
    "    \n",
    "    response = parse_text(response)\n",
    "    response = obtain_sql(response)\n",
    "    \n",
    "    chatbot = [(\"\", \"\")]  # 初始化 chatbot 列表并添加一个空条目\n",
    "    print(f\"Debug: Initial chatbot: {chatbot}\")  # 打印初始 chatbot 列表\n",
    "    chatbot = execute_sql(response, chatbot, dboperate)\n",
    "    \n",
    "    return response, history\n",
    "\n"
   ]
  },
  {
   "cell_type": "code",
   "execution_count": 4,
   "metadata": {},
   "outputs": [
    {
     "name": "stdout",
     "output_type": "stream",
     "text": [
      "SELECT event_type FROM event_record\n",
      "Debug: Initial chatbot: [('', '')]\n",
      "Debug: Response in execute_sql: SELECT event_type FROM event_record\n",
      "Debug: Chatbot before SQL execution: [('', '')]\n",
      "Debug: Chatbot before updating: [('', '')]\n",
      "Debug: Chatbot after updating: [('', \"\\n\\n====================\\n\\nsql语句执行成功,结果如下:\\n\\n[('打架',), ('聚众',), ('翻越',)]\")]\n",
      "SELECT event_type FROM event_record\n"
     ]
    }
   ],
   "source": [
    "\n",
    "# 模拟用户输入和历史记录\n",
    "user_input = \"请帮我查询所有的事件类型\"\n",
    "history = []\n",
    "\n",
    "# 调用predict函数\n",
    "response, history = predict(user_input, history)\n",
    "\n",
    "# 打印response\n",
    "print(response)"
   ]
  },
  {
   "cell_type": "code",
   "execution_count": null,
   "metadata": {},
   "outputs": [],
   "source": []
  },
  {
   "cell_type": "code",
   "execution_count": null,
   "metadata": {},
   "outputs": [],
   "source": []
  },
  {
   "cell_type": "code",
   "execution_count": null,
   "metadata": {},
   "outputs": [],
   "source": []
  }
 ],
 "metadata": {
  "kernelspec": {
   "display_name": "agent",
   "language": "python",
   "name": "python3"
  },
  "language_info": {
   "codemirror_mode": {
    "name": "ipython",
    "version": 3
   },
   "file_extension": ".py",
   "mimetype": "text/x-python",
   "name": "python",
   "nbconvert_exporter": "python",
   "pygments_lexer": "ipython3",
   "version": "3.8.19"
  }
 },
 "nbformat": 4,
 "nbformat_minor": 2
}
